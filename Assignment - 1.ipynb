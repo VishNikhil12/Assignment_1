{
 "cells": [
  {
   "cell_type": "raw",
   "id": "c0ea99c3",
   "metadata": {},
   "source": [
    " 1. In the below elements which of them are values or an expression? \n",
    " eg:- values can be integer or string and expressions will be mathematical operators.\n",
    " \n",
    " * \n",
    " 'hello'\n",
    " -87.8\n",
    " - \n",
    " / \n",
    " +\t\n",
    " 6\n",
    "\n",
    "\n",
    "Ans:- From the above elemnts\n",
    "\n",
    "The values are:\n",
    "\n",
    "1) 'hello' which is a String \n",
    "\n",
    "2)  -87.8 which is a Float\n",
    "\n",
    "3)  6 which is a Integer\n",
    "\n",
    "The Expressions or Mathematical operators are :\n",
    "\n",
    "1) * (Multiplication)\n",
    "\n",
    "2) -  (Subration)\n",
    "\n",
    "3) /   (Division)\n",
    "\n",
    "4) +   (Addition)\n",
    "\n",
    "This Expressions are also called as Arthimetical Expressions "
   ]
  },
  {
   "cell_type": "raw",
   "id": "ba102185",
   "metadata": {},
   "source": [
    "2. What is the difference between string and variable?\n",
    "\n",
    "\n",
    "Ans:- a string is a sequence of character (or)  string is a type of data representing text like \"Hello, World!\" enclosed in quotes.\n",
    "\n",
    "  a variable is a storage location named in the code that can hold data including strings, numbers, or other data types\n",
    "  \n",
    "    The common difference between string and variable is:\n",
    "    \n",
    "     -> string is a  specific type of data (text)\n",
    "     \n",
    "     -> while a variable is a storage mechanism that can hold any type of data, including strings.\n",
    "\n",
    "\n"
   ]
  },
  {
   "cell_type": "raw",
   "id": "aec628b5",
   "metadata": {},
   "source": [
    "3. Describe three different data types.\n",
    "\n",
    "Ans:- The Three Different Data types are :\n",
    "\n",
    "1) Integer: It is a datatype which is used to represent a Whole Number without Decimal points.\n",
    "              Eg: 0,1,2,3,4...\n",
    "\n",
    "2) Float: It is a datatype which is used to represent Real Numbers that can have a number with Decimal Points\n",
    "               Eg : 3.14 ,554.43 ,43.53.....\n",
    "\n",
    "3) Boolean: It is  a Simple data type that represents one of Two values: True or False \n",
    "               It is used to perform Logical Operations in the code "
   ]
  },
  {
   "cell_type": "raw",
   "id": "7127d781",
   "metadata": {},
   "source": [
    "4. What is an expression made up of? What do all expressions do?\n",
    "\n",
    "Ans:- An Expression is made up of a  variable containig some information ,the information has  \n",
    "      some  operands  and different operators performing on the operand.\n",
    "      \n",
    "      eg:- result = (a + b) / c\n",
    "           the above example is an expresion\n",
    "           where:\n",
    "               result , is variable\n",
    "                a,b,c , are operands\n",
    "                + / ) , are operators\n",
    "                \n",
    "       All  expressions performs some Operations it may be \n",
    "        -> Mathematical operation\n",
    "        -> Logical Operation \n",
    "         or any type of operation "
   ]
  },
  {
   "cell_type": "raw",
   "id": "9c605811",
   "metadata": {},
   "source": [
    "5. This assignment statements, like spam = 10. What is the difference between an expression and a statement?\n",
    "\n",
    " Ans :- the assignment staments are used to assign a value to a variable \n",
    "            eg: spam =10\n",
    "               here, we are assigning a value 10 to a variable spam\n",
    "           Where as in expression\n",
    "              here, we are performing some operation on a variable \n",
    "                eg: result = (a+b)*c\n",
    "           \n",
    "           the difference Between a statement and expression is \n",
    "              \n",
    "              that statement is used to assign a value \n",
    "              and expression is used to perform some operation on a variable\n",
    "              "
   ]
  },
  {
   "cell_type": "code",
   "execution_count": 1,
   "id": "36add120",
   "metadata": {},
   "outputs": [
    {
     "data": {
      "text/plain": [
       "23"
      ]
     },
     "execution_count": 1,
     "metadata": {},
     "output_type": "execute_result"
    }
   ],
   "source": [
    "#6. After running the following code, what does the variable bacon contain?\n",
    "\n",
    "bacon = 22\n",
    "bacon + 1   # After performing operation the bacon value will be incremented to 1\n",
    "\n",
    "\n",
    "Ans:"
   ]
  },
  {
   "cell_type": "raw",
   "id": "e1adbabb",
   "metadata": {
    "vscode": {
     "languageId": "raw"
    }
   },
   "source": [
    " 7. What should the values of the following two terms be?\n",
    "\n",
    "Ans:-\n",
    "\n",
    "'spam' + 'spamspam' -> here we just concatinating the two string result will be 'spamspamspam'\n",
    "\n",
    "'spam' * 3      -> here also the result is same we are multiplying the same string  three times\n",
    "                                                         \n",
    "                                                         result will be 'spamspamspam'\n",
    "\n",
    "  \n"
   ]
  },
  {
   "cell_type": "raw",
   "id": "23e1321f",
   "metadata": {},
   "source": [
    "8. Why is eggs a valid variable name while 100 is invalid?\n",
    "\n",
    "Ans:-\n",
    "    In python we need to define a variable starting with letters we can't define a variable starting with numbers \n",
    "    \n",
    "    because in real world many of the names will start with letters not with a number \n",
    "      \n",
    "     eg : a name can be nick \n",
    "     \n",
    "          it can't be 100nick\n",
    "          \n",
    "          thus, eggs are valid variable where as 100 is invalid."
   ]
  },
  {
   "cell_type": "raw",
   "id": "5746d47e",
   "metadata": {},
   "source": [
    "9. What three functions can be used to get the integer, floating-point number, or string version of a value?\n",
    "\n",
    "Ans:-  \n",
    "     int() function is used to get an integer value (or) to convert any value to  interger value\n",
    "     \n",
    "     eg:-  value = 13.9\n",
    "             \n",
    "           int_value = int(value)\n",
    "           \n",
    "           output: 13\n",
    "           \n",
    "     float() function is used to get an floting point value (or) to convert any value to float value  \n",
    "     \n",
    "     eg:    value = 13\n",
    "             \n",
    "           float_value = float(value)\n",
    "           \n",
    "           output: 13.0\n",
    "           \n",
    "           \n",
    "     str() function is used to get an string value (or) to convert any value to str value    \n",
    "     \n",
    "        eg: value = 15\n",
    "             \n",
    "           str_value = str(value)\n",
    "           \n",
    "           output: '15'\n",
    "           "
   ]
  },
  {
   "cell_type": "raw",
   "id": "71068a5e",
   "metadata": {},
   "source": [
    "10. Why does this expression cause an error? How can you fix it?\n",
    "   \n",
    "'I have eaten ' + 99 + ' burritos.'\n",
    "\n",
    "Ans:-\n",
    "        The expression cause an error because we are trying to cancatinate the integer value with a string value\n",
    "        This can't be happen in python to fix this :\n",
    "        We can re-write this \n",
    "          \n",
    "'I have eaten ' + str(99) + ' burritos' \n",
    "               or\n",
    "'I have eaten ' + '99' + ' burritos' \n"
   ]
  },
  {
   "cell_type": "code",
   "execution_count": null,
   "id": "184b07b3",
   "metadata": {},
   "outputs": [],
   "source": []
  }
 ],
 "metadata": {
  "kernelspec": {
   "display_name": "Python 3 (ipykernel)",
   "language": "python",
   "name": "python3"
  },
  "language_info": {
   "codemirror_mode": {
    "name": "ipython",
    "version": 3
   },
   "file_extension": ".py",
   "mimetype": "text/x-python",
   "name": "python",
   "nbconvert_exporter": "python",
   "pygments_lexer": "ipython3",
   "version": "3.11.4"
  }
 },
 "nbformat": 4,
 "nbformat_minor": 5
}
